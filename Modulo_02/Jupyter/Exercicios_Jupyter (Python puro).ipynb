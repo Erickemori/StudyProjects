{
 "cells": [
  {
   "cell_type": "markdown",
   "metadata": {},
   "source": [
    "**Exercício 01:**  \n",
    "  \n",
    "Reproduza o seguinte [README](https://github.com/ai2-education-fiep-turma-5/02-programacao-python/blob/main/exercicios/aula1/assets/markdown.pdf) utilizando markdown no Jupyter notebook."
   ]
  },
  {
   "cell_type": "markdown",
   "metadata": {},
   "source": [
    "## **Resposta:**  \n",
    "  \n",
    "## Image Processing in Python\n",
    "![https://forum.image.sc/tag/scikit-image](https://img.shields.io/badge/Forum-33%20topics-brightgreen?logo=atom)\n",
    "![https://stackoverflow.com/questions/tagged/scikit-image](https://img.shields.io/badge/stackoverflow-Ask%20questions-informational)  \n",
    "* **Website (including documentation):** <https://scikit-image.org/>\n",
    "* **Mailing list:** <https://mail.python.org/mailman/listinfo/scikit-imag>\n",
    "* **Benchmarks:** <https://pandas.pydata.org/speed/scikit-image/>  \n",
    "  \n",
    "### Installation from binaries\n",
    "* **Debian/Ubuntu:** sudo apt-get install python-skimage\n",
    "* **OSX:** pip install scikit-image\n",
    "* **Anaconda:** conda install -c conda-forge scikit-image\n",
    "* **Windows:** Download [Windows binaries](https://www.lfd.uci.edu/~gohlke/pythonlibs/#scikit-image)\n",
    "\n",
    "Also see [installing scikit-image](/home/fialhocoelho/Downloads/scikit-image/INSTALL.rst).\n",
    "\n",
    "### Installation from source  \n",
    "  \n",
    "Install dependencies using:  \n",
    "  \n",
    "`pip install -r requirements.txt`  \n",
    "    \n",
    "Then, install scikit-image using:  \n",
    "  \n",
    "`$ pip install .`  \n",
    "  \n",
    "If you plan to develop the package, you may run it directly from source:  \n",
    "  \n",
    "`$ pip install -e . # Do this once to add package to Python path`  \n",
    "  \n",
    "Every time you modify Cython files, also run:  \n",
    "  \n",
    "`$ python setup.py build_ext -i # Build binary extensions`  \n",
    "  \n",
    "### License (Modified BSD)\n",
    "Copyright (C) 2011, the scikit-image team All rights reserved.  \n",
    "  \n",
    "Redistribution and use in source and binary forms, with or without modification, are permitted provided that\n",
    "the following conditions are met:  \n",
    "\n",
    "1. Redistributions of source code must retain the above copyright notice, this list of conditions and the\n",
    "following disclaimer.\n",
    "1. Redistributions in binary form must reproduce the above copyright notice, this list of conditions and\n",
    "the following disclaimer in the documentation and/or other materials provided with the distribution.\n",
    "1. Neither the name of skimage nor the names of its contributors may be used to endorse or promote\n",
    "products derived from this software without specific prior written permission.  \n",
    "  \n",
    "THIS SOFTWARE IS PROVIDED BY THE AUTHOR ``AS IS'' AND ANY EXPRESS OR IMPLIED\n",
    "WARRANTIES, INCLUDING, BUT NOT LIMITED TO, THE IMPLIED WARRANTIES OF\n",
    "MERCHANTABILITY AND FITNESS FOR A PARTICULAR PURPOSE ARE DISCLAIMED. IN NO\n",
    "EVENT SHALL THE AUTHOR BE LIABLE FOR ANY DIRECT, INDIRECT, INCIDENTAL, SPECIAL,\n",
    "EXEMPLARY, OR CONSEQUENTIAL DAMAGES (INCLUDING, BUT NOT LIMITED TO,\n",
    "PROCUREMENT OF SUBSTITUTE GOODS OR SERVICES; LOSS OF USE, DATA, OR PROFITS; ORBUSINESS INTERRUPTION) HOWEVER CAUSED AND ON ANY THEORY OF LIABILITY,\n",
    "WHETHER IN CONTRACT, STRICT LIABILITY, OR TORT (INCLUDING NEGLIGENCE OR\n",
    "OTHERWISE) ARISING IN ANY WAY OUT OF THE USE OF THIS SOFTWARE, EVEN IF ADVISED\n",
    "OF THE POSSIBILITY OF SUCH DAMAGE.  \n",
    "  \n",
    "### Citation  \n",
    "  \n",
    "If you find this project useful, please cite:  \n",
    "\n",
    ">Stéfan van der Walt, Johannes L. Schönberger, Juan Nunez-Iglesias, François Boulogne, Joshua\n",
    "D. Warner, Neil Yager, Emmanuelle Gouillart, Tony Yu, and the scikit-image contributors.\n",
    "scikit-image: Image processing in Python. PeerJ 2:e453 (2014) https://doi.org/10.7717/peerj.453\n"
   ]
  },
  {
   "cell_type": "markdown",
   "metadata": {},
   "source": [
    "**Exercício 2:**  \n",
    "  \n",
    "O `markdown` não possibilita que redimensionemos a imagem usando a sintaxe `![image_alt](image_path)`. Pesquise uma maneira de inserir a seguinte imagem e redimensioná-la no jupyter notebook."
   ]
  },
  {
   "cell_type": "markdown",
   "metadata": {},
   "source": [
    "## **Resposta:**  \n",
    "\n",
    "É possível redimensionar a imagem usando HTML:  \n",
    "  \n",
    "`<img src=\"https://upload.wikimedia.org/wikipedia/commons/thumb/3/38/Jupyter_logo.svg/300px-Jupyter_logo.svg.png\" alt=\"Jupyter Logo\" width = \"50\"/>`  \n",
    "### Original:  \n",
    "<img src=\"https://upload.wikimedia.org/wikipedia/commons/thumb/3/38/Jupyter_logo.svg/300px-Jupyter_logo.svg.png\" alt=\"Jupyter Logo\"/>  \n",
    "  \n",
    "### Redimensionada:  \n",
    "<img src=\"https://upload.wikimedia.org/wikipedia/commons/thumb/3/38/Jupyter_logo.svg/300px-Jupyter_logo.svg.png\" alt=\"Jupyter Logo\" width = \"50\"/>\n"
   ]
  },
  {
   "cell_type": "markdown",
   "metadata": {},
   "source": [
    "**Exercício 3:**  \n",
    "  \n",
    "Como escrever (utilizando uma célula markdown) em texto simples os símbolos utilizados pela sintaxe `( *, #, _ **)`?  \n",
    "  \n",
    "Imagem exemplo:  \n",
    "\n",
    "![Exemplo](https://raw.githubusercontent.com/ai2-education-fiep-turma-5/02-programacao-python/main/exercicios/aula1/assets/lorem.png)"
   ]
  },
  {
   "cell_type": "markdown",
   "metadata": {},
   "source": [
    "## **Resposta:**  \n",
    "  \n",
    "Para escrever caracteres especiais basta adicionar / ao longo dos símbolos:  \n",
    "  \n",
    "`Lorem ipsum \\*\\*dolor sit amet, consectetur adipiscing elit. \\_Proin lacinia malesuada lobortis. \\#\\# Ut aliquam dictum arcu, vel eleifend dolor pellentesque molestie. \\~Nam eget augue purus. Ut ac risus libero.`  \n",
    "  \n",
    "O texto se torna:  \n",
    "  \n",
    "Lorem ipsum \\*\\*dolor sit amet, consectetur adipiscing elit. \\_Proin lacinia malesuada lobortis. \\#\\# Ut aliquam dictum arcu, vel eleifend dolor pellentesque molestie. \\~Nam eget augue purus. Ut ac risus libero."
   ]
  },
  {
   "cell_type": "markdown",
   "metadata": {},
   "source": [
    "**Exercício 4:**\n",
    "Instale o a ferramente matplotlib usando o conda utilizando uma célula do `jupyter notebook`. **Dica 1:** insira -y no final do comando de instalação para que ele não espere sua confirmação para instalação.  \n",
    "  \n",
    "**Dica 2:** Pode ser necessário reiniciar o kernel para que o pacote instalado seja identificado pelo `jupyter`. Para fazê-lo: aba superior **Kernel -> Restart**.\n"
   ]
  },
  {
   "cell_type": "code",
   "execution_count": null,
   "metadata": {},
   "outputs": [],
   "source": [
    "conda install matplotlib"
   ]
  },
  {
   "cell_type": "code",
   "execution_count": null,
   "metadata": {},
   "outputs": [],
   "source": [
    "import matplotlib\n",
    "import matplotlib.pyplot as plt\n",
    "import numpy as np\n",
    "\n",
    "# Data for plotting\n",
    "t = np.arange(0.0, 2.0, 0.01)\n",
    "s = 1 + np.sin(2 * np.pi * t)\n",
    "\n",
    "fig, ax = plt.subplots()\n",
    "ax.plot(t, s)\n",
    "\n",
    "ax.set(xlabel='time (s)', ylabel='voltage (mV)',\n",
    "       title='About as simple as it gets, folks')\n",
    "ax.grid()\n",
    "\n",
    "plt.show()"
   ]
  },
  {
   "cell_type": "markdown",
   "metadata": {},
   "source": [
    "**Exercício 5**  \n",
    "  \n",
    "Utilize o repositório [profiles](https://github.com/ai2-education-fiep-turma-5/resident-profiles), criar um novo diretório no formato `nome-sobrenome` (utilizar último sobrenome - não utilizar letras maiúsculas). Criar um novo README.md no seu diretório contendo o seu perfil (como uma espécie de mini CV) utilizando `Markdown`.\n",
    "\n",
    "## **Resposta:**\n",
    "\n",
    "[Meu perfil](https://github.com/ai2-education-fiep-turma-5/resident-profiles/tree/main/Erick_E)."
   ]
  },
  {
   "cell_type": "markdown",
   "metadata": {},
   "source": [
    "### Python warmup\n",
    "\n",
    "Para esse conjunto de exercícios vamos utilizar o dataset [MovieLens 100k](https://grouplens.org/datasets/movielens/100k/)\n",
    "\n",
    "\n",
    "Os conjuntos de dados do MovieLens foram coletados pelo GroupLens Research Project na Universidade de Minnesota.\n",
    " \n",
    "Este conjunto de dados consiste em:\n",
    "* 100.000 classificações (1-5) de 943 usuários em 1.682 filmes.\n",
    "* Cada usuário classificou pelo menos 20 filmes.\n",
    "* Informações demográficas simples para os usuários (idade, sexo, ocupação, CEP)\n",
    "\n",
    "Os dados foram coletados por meio do site MovieLens (movielens.umn.edu) durante o período de sete meses a partir de 19 de setembro, 1997 a 22 de abril de 1998. Estes dados foram limpos - usuários que tiveram menos de 20 avaliações ou não tiveram dados demográficos completos informações foram removidas deste conjunto de dados. Descrições detalhadas de o arquivo de dados pode ser encontrado no final deste arquivo.\n",
    "\n",
    "Utilizando esse Dataset responda as seguintes perguntas. Você deverá utilizar somente as bibliotecas padrões do python, i.e., nenhuma nova biblioteca deve ser adicionada para implementar suas soluções (**isso é um warmup de python!**)\n",
    "\n",
    "#### Encontrar:\n",
    "1. O(s) usuário(s) mais crítico(s) na avaliação de filmes.\n",
    "    * Encontrar aquele id cujas notas são, em média, as menores;\n",
    "1. O(s) filme(s) mais mal avaliado(s) pelos usuários.\n",
    "1. O(s) filme(s) mais bem avaliado(s) pelos usuários.\n",
    "1. Média de avaliação para cada gênero de filmes;\n",
    "1. Avaliação média de filmes por ano. \n",
    "    * Listar qual o ano com a melhor média de avaliação de filmes;\n",
    "1. Qual a ocupação mais propensa a dar más avaliações a filmes;\n",
    "    * Encontrar a média de avaliação para cada ocupação de usuário e mostrar os menores e maiores valores"
   ]
  },
  {
   "cell_type": "code",
   "execution_count": 15,
   "metadata": {},
   "outputs": [],
   "source": [
    "#Leitura do documento\n",
    "f = open('/home/hub/Project/resident-profiles/Erick_E/Modulo_02/Jupyter/ml-100k/u.data','r')\n",
    "f2 = open('/home/hub/Project/resident-profiles/Erick_E/Modulo_02/Jupyter/ml-100k/u.user','r')\n",
    "f3 = open('/home/hub/Project/resident-profiles/Erick_E/Modulo_02/Jupyter/ml-100k/u.item','r', encoding='latin-1')\n",
    "f4 = open('/home/hub/Project/resident-profiles/Erick_E/Modulo_02/Jupyter/ml-100k/u.genre','r')\n",
    "l = []\n",
    "l = [line.split() for line in f]\n",
    "u = []\n",
    "u = [line.split(\"|\") for line in f2]\n",
    "filmes = [line.split(\"|\") for line in f3]\n",
    "generos = [line.split(\"|\") for line in f4]\n",
    "\n"
   ]
  },
  {
   "cell_type": "code",
   "execution_count": 29,
   "metadata": {},
   "outputs": [
    {
     "name": "stdout",
     "output_type": "stream",
     "text": [
      "1. O(s) usuário(s) mais crítico(s) na avaliação de filmes.\n",
      "\n",
      "Usuário: 181 Avaliação média: 1.492\n",
      "Usuário: 405 Avaliação média: 1.834\n",
      "Usuário: 445 Avaliação média: 1.985\n",
      "Usuário: 685 Avaliação média: 2.05\n",
      "Usuário: 774 Avaliação média: 2.058\n"
     ]
    }
   ],
   "source": [
    "print('1. O(s) usuário(s) mais crítico(s) na avaliação de filmes.\\n')\n",
    "soma_av = [0]*len(u)\n",
    "contador_av = [0]*len(u)\n",
    "media_av = [[0 for i in range(2)] for j in range(len(u))]\n",
    "for n in range(len(l)):\n",
    "    soma_av[int(l[n][0])-1]=soma_av[int(l[n][0])-1]+int(l[n][2])\n",
    "    contador_av[int(l[n][0])-1]=contador_av[int(l[n][0])-1]+1\n",
    "for n in range(len(u)):\n",
    "    media_av[n][0] = soma_av[n]/contador_av[n]\n",
    "    media_av[n][1] = n+1\n",
    "media_av.sort()\n",
    "for i in range(5):\n",
    "    print(\"Usuário:\",media_av[i][1],\"Avaliação média:\",round(media_av[i][0],3))"
   ]
  },
  {
   "cell_type": "code",
   "execution_count": 41,
   "metadata": {},
   "outputs": [
    {
     "name": "stdout",
     "output_type": "stream",
     "text": [
      "2. O(s) filme(s) mais mal avaliado(s) pelos usuários.\n",
      "\n",
      "Filme: 3 Ninjas: High Noon At Mega Mountain (1998) Avaliação média: 1.0\n",
      "Filme: Amityville 1992: It's About Time (1992) Avaliação média: 1.0\n",
      "Filme: Amityville: A New Generation (1993) Avaliação média: 1.0\n",
      "Filme: Police Story 4: Project S (Chao ji ji hua) (1993) Avaliação média: 1.0\n",
      "Filme: Beyond Bedlam (1993) Avaliação média: 1.0\n"
     ]
    }
   ],
   "source": [
    "print('2. O(s) filme(s) mais mal avaliado(s) pelos usuários.\\n')\n",
    "soma_filme = [0]*len(filmes)\n",
    "contador_filme = [0]*len(filmes)\n",
    "media_filme = [[0 for i in range(2)] for j in range(len(filmes))]\n",
    "for n in range(len(l)):\n",
    "    soma_filme[int(l[n][1])-1]=soma_filme[int(l[n][1])-1]+int(l[n][2])\n",
    "    contador_filme[int(l[n][1])-1]=contador_filme[int(l[n][1])-1]+1\n",
    "for n in range(len(filmes)):\n",
    "    media_filme[n][0] = soma_filme[n]/contador_filme[n]\n",
    "    media_filme[n][1] = n+1\n",
    "media_filme.sort()\n",
    "for i in range(5):\n",
    "    print(\"Filme:\",filmes[media_filme[i][1]-1][1],\"Avaliação média:\",round(media_filme[i][0],3))"
   ]
  },
  {
   "cell_type": "code",
   "execution_count": 42,
   "metadata": {},
   "outputs": [
    {
     "name": "stdout",
     "output_type": "stream",
     "text": [
      "3. O(s) filme(s) mais bem avaliado(s) pelos usuários.\n",
      "\n",
      "Filme: Entertaining Angels: The Dorothy Day Story (1996) Avaliação média: 5.0\n",
      "Filme: Someone Else's America (1995) Avaliação média: 5.0\n",
      "Filme: Aiqing wansui (1994) Avaliação média: 5.0\n",
      "Filme: Santa with Muscles (1996) Avaliação média: 5.0\n",
      "Filme: Saint of Fort Washington, The (1993) Avaliação média: 5.0\n"
     ]
    }
   ],
   "source": [
    "print('3. O(s) filme(s) mais bem avaliado(s) pelos usuários.\\n')\n",
    "media_filme.sort(reverse=True)\n",
    "for i in range(5):\n",
    "    print(\"Filme:\",filmes[media_filme[i][1]-1][1],\"Avaliação média:\",round(media_filme[i][0],3))"
   ]
  },
  {
   "cell_type": "code",
   "execution_count": 43,
   "metadata": {},
   "outputs": [
    {
     "name": "stdout",
     "output_type": "stream",
     "text": [
      "4. Média de avaliação para cada gênero de filmes:.\n",
      "\n",
      "Genero: unknown Avaliação média: 3.2\n",
      "Genero: Action Avaliação média: 3.48\n",
      "Genero: Adventure Avaliação média: 3.504\n",
      "Genero: Animation Avaliação média: 3.577\n",
      "Genero: Children's Avaliação média: 3.353\n",
      "Genero: Comedy Avaliação média: 3.394\n",
      "Genero: Crime Avaliação média: 3.632\n",
      "Genero: Documentary Avaliação média: 3.673\n",
      "Genero: Drama Avaliação média: 3.687\n",
      "Genero: Fantasy Avaliação média: 3.215\n",
      "Genero: Film-Noir Avaliação média: 3.922\n",
      "Genero: Horror Avaliação média: 3.29\n",
      "Genero: Musical Avaliação média: 3.521\n",
      "Genero: Mystery Avaliação média: 3.638\n",
      "Genero: Romance Avaliação média: 3.622\n",
      "Genero: Sci-Fi Avaliação média: 3.561\n",
      "Genero: Thriller Avaliação média: 3.509\n",
      "Genero: War Avaliação média: 3.816\n"
     ]
    }
   ],
   "source": [
    "print('4. Média de avaliação para cada gênero de filmes:.\\n')\n",
    "soma_genero = [0]*18 #18 generos\n",
    "contador_genero = [0]*18\n",
    "media_genero = [[0 for i in range(2)] for j in range(18)]\n",
    "for n in range(len(l)):\n",
    "    for j in range(18):\n",
    "        id=int(l[n][1])-1 #id do filme que equivale a posição do filme na lista de filmes\n",
    "        if filmes[id][j+5]=='1': #vai verificar na lista de generos qual tem valor = 1 (o primeiro genero tem posição 5)\n",
    "            contador_genero[j]=contador_genero[j]+1\n",
    "            soma_genero[j]=soma_genero[j]+int(l[n][2])\n",
    "for n in range(18):\n",
    "    media_genero[n][0] = soma_genero[n]/contador_genero[n]\n",
    "    media_genero[n][1] = n+1\n",
    "for i in range(18):\n",
    "    print(\"Genero:\",generos[i][0],\"Avaliação média:\",round(media_genero[i][0],3))\n"
   ]
  },
  {
   "cell_type": "code",
   "execution_count": 44,
   "metadata": {},
   "outputs": [
    {
     "name": "stdout",
     "output_type": "stream",
     "text": [
      "5. Avaliação média de filmes por ano.\n",
      "\n",
      "Ano: 1922 Avaliação média: 3.556\n",
      "Ano: 1926 Avaliação média: 3.0\n",
      "Ano: 1930 Avaliação média: 3.778\n",
      "Ano: 1931 Avaliação média: 4.0\n",
      "Ano: 1932 Avaliação média: 3.833\n",
      "Ano: 1933 Avaliação média: 3.968\n",
      "Ano: 1934 Avaliação média: 4.025\n",
      "Ano: 1935 Avaliação média: 3.874\n",
      "Ano: 1936 Avaliação média: 3.769\n",
      "Ano: 1937 Avaliação média: 3.746\n",
      "Ano: 1938 Avaliação média: 3.897\n",
      "Ano: 1939 Avaliação média: 3.993\n",
      "Ano: 1940 Avaliação média: 3.88\n",
      "Ano: 1941 Avaliação média: 4.03\n",
      "Ano: 1942 Avaliação média: 4.398\n",
      "Ano: 1943 Avaliação média: 3.75\n",
      "Ano: 1944 Avaliação média: 3.935\n",
      "Ano: 1945 Avaliação média: 3.6\n",
      "Ano: 1946 Avaliação média: 4.087\n",
      "Ano: 1947 Avaliação média: 3.589\n",
      "Ano: 1948 Avaliação média: 4.073\n",
      "Ano: 1949 Avaliação média: 4.115\n",
      "Ano: 1950 Avaliação média: 3.771\n",
      "Ano: 1951 Avaliação média: 3.921\n",
      "Ano: 1952 Avaliação média: 4.034\n",
      "Ano: 1953 Avaliação média: 4.052\n",
      "Ano: 1954 Avaliação média: 4.04\n",
      "Ano: 1955 Avaliação média: 3.829\n",
      "Ano: 1956 Avaliação média: 3.736\n",
      "Ano: 1957 Avaliação média: 4.019\n",
      "Ano: 1958 Avaliação média: 3.84\n",
      "Ano: 1959 Avaliação média: 3.996\n",
      "Ano: 1960 Avaliação média: 3.909\n",
      "Ano: 1961 Avaliação média: 3.471\n",
      "Ano: 1962 Avaliação média: 4.159\n",
      "Ano: 1963 Avaliação média: 3.947\n",
      "Ano: 1964 Avaliação média: 3.762\n",
      "Ano: 1965 Avaliação média: 3.595\n",
      "Ano: 1966 Avaliação média: 3.858\n",
      "Ano: 1967 Avaliação média: 3.993\n",
      "Ano: 1968 Avaliação média: 3.752\n",
      "Ano: 1969 Avaliação média: 3.781\n",
      "Ano: 1970 Avaliação média: 3.833\n",
      "Ano: 1971 Avaliação média: 3.708\n",
      "Ano: 1972 Avaliação média: 4.216\n",
      "Ano: 1973 Avaliação média: 3.914\n",
      "Ano: 1974 Avaliação média: 3.998\n",
      "Ano: 1975 Avaliação média: 3.922\n",
      "Ano: 1976 Avaliação média: 3.347\n",
      "Ano: 1977 Avaliação média: 4.142\n",
      "Ano: 1978 Avaliação média: 3.37\n",
      "Ano: 1979 Avaliação média: 3.765\n",
      "Ano: 1980 Avaliação média: 3.874\n",
      "Ano: 1981 Avaliação média: 3.688\n",
      "Ano: 1982 Avaliação média: 3.753\n",
      "Ano: 1983 Avaliação média: 3.688\n",
      "Ano: 1984 Avaliação média: 3.785\n",
      "Ano: 1985 Avaliação média: 3.821\n",
      "Ano: 1986 Avaliação média: 3.718\n",
      "Ano: 1987 Avaliação média: 3.755\n",
      "Ano: 1988 Avaliação média: 3.701\n",
      "Ano: 1989 Avaliação média: 3.716\n",
      "Ano: 1990 Avaliação média: 3.576\n",
      "Ano: 1991 Avaliação média: 3.765\n",
      "Ano: 1992 Avaliação média: 3.465\n",
      "Ano: 1993 Avaliação média: 3.525\n",
      "Ano: 1994 Avaliação média: 3.425\n",
      "Ano: 1995 Avaliação média: 3.367\n",
      "Ano: 1996 Avaliação média: 3.325\n",
      "Ano: 1997 Avaliação média: 3.375\n",
      "Ano: 1998 Avaliação média: 3.325\n"
     ]
    }
   ],
   "source": [
    "print('5. Avaliação média de filmes por ano.\\n')\n",
    "soma_ano = [0]*2000 \n",
    "contador_ano = [[0 for i in range(2)] for j in range(2000)]\n",
    "media_ano = [[0 for i in range(2)] for j in range(2000)]\n",
    "for n in range(len(l)):\n",
    "            id=int(l[n][1])-1 #id do filme que equivale a posição do filme na lista de filmes\n",
    "            if (filmes[id][2][7:11]!=''): #remove termos vazios\n",
    "                ano=int(filmes[id][2][7:11])\n",
    "            else:\n",
    "                ano=1\n",
    "            contador_ano[ano][1]=contador_ano[ano][1]+1\n",
    "            contador_ano[ano][0]=ano\n",
    "            soma_ano[ano]=soma_ano[ano]+int(l[n][2])\n",
    "for n in range(len(l)):\n",
    "    id=int(l[n][1])-1 #id do filme que equivale a posição do filme na lista de filmes\n",
    "    if (filmes[id][2][7:11]!=''): #remove termos vazios\n",
    "        ano=int(filmes[id][2][7:11])\n",
    "    else:\n",
    "        ano=1\n",
    "    if contador_ano[ano][1]!=0:\n",
    "        media_ano[ano][0] = (soma_ano[ano]/contador_ano[ano][1])\n",
    "        media_ano[ano][1] = contador_ano[ano][0]\n",
    "media_ano_sem_zero=[i for i in media_ano if i !=[0,0]]\n",
    "media_ano_sem_zero.pop(0) #remove o termo que continha anos nulos\n",
    "media_ano_sem_zero.pop(0) #remove o termo que continha erro\n",
    "for i in range(len(media_ano_sem_zero)):\n",
    "    print(\"Ano:\",media_ano_sem_zero[i][1],\"Avaliação média:\",round(media_ano_sem_zero[i][0],3))"
   ]
  },
  {
   "cell_type": "code",
   "execution_count": 45,
   "metadata": {},
   "outputs": [
    {
     "name": "stdout",
     "output_type": "stream",
     "text": [
      "6. Qual a ocupação mais propensa a dar más avaliações a filmes.\n",
      "\n",
      "Ocupação: administrator Avaliação média: 3.636\n",
      "Ocupação: artist Avaliação média: 3.653\n",
      "Ocupação: doctor Avaliação média: 3.689\n",
      "Ocupação: educator Avaliação média: 3.671\n",
      "Ocupação: engineer Avaliação média: 3.541\n",
      "Ocupação: entertainment Avaliação média: 3.441\n",
      "Ocupação: executive Avaliação média: 3.349\n",
      "Ocupação: healthcare Avaliação média: 2.896\n",
      "Ocupação: homemaker Avaliação média: 3.301\n",
      "Ocupação: lawyer Avaliação média: 3.735\n",
      "Ocupação: librarian Avaliação média: 3.561\n",
      "Ocupação: marketing Avaliação média: 3.486\n",
      "Ocupação: none Avaliação média: 3.779\n",
      "Ocupação: other Avaliação média: 3.552\n",
      "Ocupação: programmer Avaliação média: 3.568\n",
      "Ocupação: retired Avaliação média: 3.467\n",
      "Ocupação: salesman Avaliação média: 3.583\n",
      "Ocupação: scientist Avaliação média: 3.611\n",
      "Ocupação: student Avaliação média: 3.515\n",
      "Ocupação: technician Avaliação média: 3.532\n",
      "Ocupação: writer Avaliação média: 3.376\n",
      "Ocupação mais crítica: healthcare Avaliação média: 2.896\n"
     ]
    }
   ],
   "source": [
    "print('6. Qual a ocupação mais propensa a dar más avaliações a filmes.\\n')\n",
    "#ainda nao fiz esse\n",
    "f5 = open('/home/hub/Project/resident-profiles/Erick_E/Modulo_02/Jupyter/ml-100k/u.user','r')\n",
    "f6 = open('/home/hub/Project/resident-profiles/Erick_E/Modulo_02/Jupyter/ml-100k/u.occupation','r')\n",
    "ocupacao = [line.split(\"|\") for line in f5]\n",
    "ocup_list = [line.split(\"\\n\") for line in f6]\n",
    "\n",
    "soma_ocup = [0]*len(ocup_list) \n",
    "contador_ocup= [0]*len(ocup_list)\n",
    "media_ocup = [[0 for i in range(2)] for j in range(len(ocup_list))]\n",
    "for n in range(len(l)):\n",
    "    for j in range(len(ocup_list)):\n",
    "        id=int(l[n][0])-1 #identidade do usuario como posicao na lista\n",
    "        if ocupacao[id][3]==ocup_list[j][0]: #vai verificar na lista de usuarios a ocupacao dele a partir do id\n",
    "            contador_ocup[j]=contador_ocup[j]+1\n",
    "            soma_ocup[j]=soma_ocup[j]+int(l[n][2])\n",
    "for n in range(len(ocup_list)):\n",
    "    media_ocup[n][0] = soma_ocup[n]/contador_ocup[n]\n",
    "    media_ocup[n][1] = ocup_list[n][0]\n",
    "for i in range(len(ocup_list)):\n",
    "    print(\"Ocupação:\",media_ocup[i][1],\"Avaliação média:\",round(media_ocup[i][0],3))\n",
    "media_ocup.sort()\n",
    "print(\"Ocupação mais crítica:\",media_ocup[0][1],\"Avaliação média:\",round(media_ocup[0][0],3))\n"
   ]
  }
 ],
 "metadata": {
  "kernelspec": {
   "display_name": "Python 3 (ipykernel)",
   "language": "python",
   "name": "python3"
  },
  "language_info": {
   "codemirror_mode": {
    "name": "ipython",
    "version": 3
   },
   "file_extension": ".py",
   "mimetype": "text/x-python",
   "name": "python",
   "nbconvert_exporter": "python",
   "pygments_lexer": "ipython3",
   "version": "3.9.12"
  },
  "vscode": {
   "interpreter": {
    "hash": "95bc2cefe00dbd1e8461762dda09a55a180e040a88d609dae522c6119bea5c62"
   }
  }
 },
 "nbformat": 4,
 "nbformat_minor": 2
}
