{
 "cells": [
  {
   "cell_type": "code",
   "execution_count": null,
   "metadata": {},
   "outputs": [],
   "source": [
    "import numpy as np"
   ]
  },
  {
   "cell_type": "markdown",
   "metadata": {},
   "source": [
    "1. Crie uma função que receba um número e retorne TRUE se for negativo, caso contrário retorne FALSE;"
   ]
  },
  {
   "cell_type": "code",
   "execution_count": null,
   "metadata": {},
   "outputs": [],
   "source": [
    "def neg(num):\n",
    "    if (num < 0):\n",
    "        return True\n",
    "    else:\n",
    "        return False"
   ]
  },
  {
   "cell_type": "code",
   "execution_count": null,
   "metadata": {},
   "outputs": [],
   "source": [
    "num = input(\"Digite um número: \")\n",
    "neg(int(num))"
   ]
  },
  {
   "cell_type": "markdown",
   "metadata": {},
   "source": [
    "2. Crie uma função utilizando list comprehension que receba um array de números e retorne a soma acumulativa dos valores;"
   ]
  },
  {
   "cell_type": "code",
   "execution_count": null,
   "metadata": {},
   "outputs": [],
   "source": [
    "def somaacum(A):\n",
    "    soma = 0\n",
    "    for i in range(len(A)):\n",
    "        soma = soma+A[i]\n",
    "    return soma"
   ]
  },
  {
   "cell_type": "code",
   "execution_count": null,
   "metadata": {},
   "outputs": [],
   "source": [
    "n = input(\"Qual o tamanho do vetor?\")\n",
    "A = np.zeros(int(n))\n",
    "for i in range(int(n)):\n",
    "   A[i] = input(\"Digite o {}º valor:\".format(i+1))\n",
    "print(\"A soma total é:\",somaacum(A))"
   ]
  },
  {
   "cell_type": "markdown",
   "metadata": {},
   "source": [
    "3. Crie uma função que receba uma string e retorne a quantidade de vogais;"
   ]
  },
  {
   "cell_type": "code",
   "execution_count": null,
   "metadata": {},
   "outputs": [],
   "source": [
    "def nvogais(palavra):\n",
    "    vogais = ['a','e','i','o','u']\n",
    "    n = list(filter(lambda x: x in vogais, palavra))\n",
    "    return len(n)"
   ]
  },
  {
   "cell_type": "code",
   "execution_count": null,
   "metadata": {},
   "outputs": [],
   "source": [
    "palavra = input(\"Digite uma palavra: \")\n",
    "if nvogais(palavra)>1:\n",
    "    print(\"A palavra possui {} vogais\".format(nvogais(palavra)))\n",
    "else:\n",
    "    print(\"A palavra possui {} vogal\".format(nvogais(palavra)))"
   ]
  },
  {
   "cell_type": "markdown",
   "metadata": {},
   "source": [
    "4. Crie uma função que retorne o último caractere de uma função recebida;"
   ]
  },
  {
   "cell_type": "code",
   "execution_count": null,
   "metadata": {},
   "outputs": [],
   "source": [
    "def ultletra(palavra):\n",
    "    return palavra[len(palavra)-1]"
   ]
  },
  {
   "cell_type": "code",
   "execution_count": null,
   "metadata": {},
   "outputs": [],
   "source": [
    "palavra = input(\"Digite uma palavra: \")\n",
    "print('A última letra é:',ultletra(palavra))"
   ]
  },
  {
   "cell_type": "markdown",
   "metadata": {},
   "source": [
    "5. Crie uma função que retorne o inverso de um valor, Exemplo: 163 -> 361   "
   ]
  },
  {
   "cell_type": "code",
   "execution_count": null,
   "metadata": {},
   "outputs": [],
   "source": [
    "def inverso(num):\n",
    "    s = list(str(num))\n",
    "    a = s[:]\n",
    "    for i in range(int(len(s)/2)):\n",
    "        s[i] = a[len(s)-1-i]\n",
    "        s[len(s)-1-i] = a[i]\n",
    "    return int(\"\".join(s))"
   ]
  },
  {
   "cell_type": "code",
   "execution_count": null,
   "metadata": {},
   "outputs": [],
   "source": [
    "num = input(\"Digite um número: \")\n",
    "print(\"O inverso desse número é\",inverso(num))"
   ]
  },
  {
   "cell_type": "markdown",
   "metadata": {},
   "source": [
    "6. Crie uma função que receba uma lista de elementos em seguida, retorne um booleano dizendo se o valor foi encontrado ou não e sua posição no vetor;"
   ]
  },
  {
   "cell_type": "code",
   "execution_count": null,
   "metadata": {},
   "outputs": [],
   "source": [
    "def procurar(lista,valor):\n",
    "    if valor in lista:\n",
    "        for i in lista:\n",
    "            pos = [x for x in range(len(lista)) if valor == lista[x]]\n",
    "        return True,pos[0] #vai retornar apenas a primeira pos\n",
    "    else:\n",
    "        return False,0"
   ]
  },
  {
   "cell_type": "code",
   "execution_count": null,
   "metadata": {},
   "outputs": [],
   "source": [
    "n = input(\"Qual o tamanho do vetor?\")\n",
    "lista = np.zeros(int(n))\n",
    "for i in range(int(n)):\n",
    "   lista[i] = int(input(\"Digite o {}º valor:\".format(i+1)))\n",
    "valor = int(input(\"Qual o valor procurado?\"))\n",
    "if procurar(lista,valor)[0]: #a func retorna uma tupla, a primeira posição da tupla representa o booleano\n",
    "    print(\"O valor foi encontrado, sua posição é\",procurar(lista,valor)[1]) #a segunda posição da tupla é a posição do valor na lista\n",
    "else:\n",
    "    print(\"O valor não foi encontrado.\")"
   ]
  },
  {
   "cell_type": "markdown",
   "metadata": {},
   "source": [
    "7. Crie uma função que receba um númeto arbitrário de parâmetros e apresente o tipo de cada um;"
   ]
  },
  {
   "cell_type": "code",
   "execution_count": null,
   "metadata": {},
   "outputs": [],
   "source": [
    "def tipos(parametros):\n",
    "    t = [type(x) for x in parametros]\n",
    "    return t"
   ]
  },
  {
   "cell_type": "code",
   "execution_count": 192,
   "metadata": {},
   "outputs": [
    {
     "name": "stdout",
     "output_type": "stream",
     "text": [
      "[<class 'int'>, <class 'float'>, <class 'str'>]\n"
     ]
    }
   ],
   "source": [
    "parametros = [1,1.5,'dog']\n",
    "print(tipos(parametros))"
   ]
  },
  {
   "cell_type": "markdown",
   "metadata": {},
   "source": [
    "8. Crie uma função que receba uma string e, utilizando decorator, retorne essa string entre aspas e em maiúscula;"
   ]
  },
  {
   "cell_type": "code",
   "execution_count": null,
   "metadata": {},
   "outputs": [],
   "source": [
    "def maiusculo(func):\n",
    "    def kotoba(texto):\n",
    "        return func(texto).upper()\n",
    "    return kotoba"
   ]
  },
  {
   "cell_type": "code",
   "execution_count": null,
   "metadata": {},
   "outputs": [],
   "source": [
    "def parenteses(func):\n",
    "    def kotoba(texto):\n",
    "        return '\"' + func(texto) + '\"'\n",
    "    return kotoba"
   ]
  },
  {
   "cell_type": "code",
   "execution_count": null,
   "metadata": {},
   "outputs": [],
   "source": [
    "@maiusculo\n",
    "@parenteses\n",
    "def mudar(texto):\n",
    "    return texto\n",
    "string = input(\"Insira uma palavra ou frase: \")\n",
    "print(mudar(string))"
   ]
  },
  {
   "cell_type": "markdown",
   "metadata": {},
   "source": [
    "10. Sem usar comandos \"ifs\", crie uma função que receba dois números e retorne a soma dos mesmos porém, o valor retornado não pode passar de 10000 e deve ser sempre > 0;"
   ]
  },
  {
   "cell_type": "code",
   "execution_count": null,
   "metadata": {},
   "outputs": [],
   "source": [
    "def somacond(x,y):\n",
    "    while (x+y < 10000)&(x+y>0):\n",
    "        return x+y    \n",
    "    return \"Operação inválida\""
   ]
  },
  {
   "cell_type": "code",
   "execution_count": 193,
   "metadata": {},
   "outputs": [
    {
     "name": "stdout",
     "output_type": "stream",
     "text": [
      "3\n",
      "Operação inválida\n",
      "Operação inválida\n"
     ]
    }
   ],
   "source": [
    "print(somacond(1,2))\n",
    "print(somacond(-1,-1))\n",
    "print(somacond(10000,10))"
   ]
  },
  {
   "cell_type": "markdown",
   "metadata": {},
   "source": [
    "11. Crie uma função que receba argumentos de tamanho arbitrário sendo que, todos esses argumentos serão números. Em seguida, retorne o menor número entre os valores recebidos."
   ]
  },
  {
   "cell_type": "code",
   "execution_count": null,
   "metadata": {},
   "outputs": [],
   "source": [
    "def menorlista(lista):\n",
    "    menor = lista[0]\n",
    "    menor = [x for x in lista if x < menor]\n",
    "    if menor == []: #se o menor numero for o primeiro, a variável \"menor\" retorna uma lista nula\n",
    "        return lista[0]\n",
    "    else:\n",
    "        return menor[len(menor)-1]\n"
   ]
  },
  {
   "cell_type": "code",
   "execution_count": null,
   "metadata": {},
   "outputs": [],
   "source": [
    "n = input(\"Qual o tamanho do vetor?\")\n",
    "lista = np.zeros(int(n))\n",
    "for i in range(int(n)):\n",
    "   lista[i] = float(input(\"Digite o {}º valor:\".format(i+1)))\n",
    "print(\"O menor valor da lista é\", menorlista(lista))"
   ]
  },
  {
   "cell_type": "markdown",
   "metadata": {},
   "source": [
    "12. Crie uma função que receba uma string e, para cada letra minúscula, transforme em letra maiúscula e vice-versa."
   ]
  },
  {
   "cell_type": "code",
   "execution_count": null,
   "metadata": {},
   "outputs": [],
   "source": [
    "def maimin(string):\n",
    "    if string.isupper():\n",
    "        return string.lower()\n",
    "    else:\n",
    "        return string.upper()\n",
    "def inverterm(string):\n",
    "    kotoba = map(maimin,string)\n",
    "    return \"\".join(list(kotoba))"
   ]
  },
  {
   "cell_type": "code",
   "execution_count": null,
   "metadata": {},
   "outputs": [],
   "source": [
    "string = input(\"Insira uma palavra ou frase: \")\n",
    "inverterm(string)"
   ]
  }
 ],
 "metadata": {
  "kernelspec": {
   "display_name": "Python 3.9.12 ('base': conda)",
   "language": "python",
   "name": "python3"
  },
  "language_info": {
   "codemirror_mode": {
    "name": "ipython",
    "version": 3
   },
   "file_extension": ".py",
   "mimetype": "text/x-python",
   "name": "python",
   "nbconvert_exporter": "python",
   "pygments_lexer": "ipython3",
   "version": "3.9.12"
  },
  "orig_nbformat": 4,
  "vscode": {
   "interpreter": {
    "hash": "95bc2cefe00dbd1e8461762dda09a55a180e040a88d609dae522c6119bea5c62"
   }
  }
 },
 "nbformat": 4,
 "nbformat_minor": 2
}
