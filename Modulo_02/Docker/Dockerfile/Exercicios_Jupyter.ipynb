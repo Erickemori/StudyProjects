{
 "cells": [
  {
   "cell_type": "markdown",
   "metadata": {},
   "source": [
    "**Exercício 01:**  \n",
    "  \n",
    "Reproduza o seguinte [README](https://github.com/ai2-education-fiep-turma-5/02-programacao-python/blob/main/exercicios/aula1/assets/markdown.pdf) utilizando markdown no Jupyter notebook."
   ]
  },
  {
   "cell_type": "markdown",
   "metadata": {},
   "source": [
    "## **Resposta:**  \n",
    "  \n",
    "## Image Processing in Python\n",
    "![https://forum.image.sc/tag/scikit-image](https://img.shields.io/badge/Forum-33%20topics-brightgreen?logo=atom)\n",
    "![https://stackoverflow.com/questions/tagged/scikit-image](https://img.shields.io/badge/stackoverflow-Ask%20questions-informational)  \n",
    "* **Website (including documentation):** <https://scikit-image.org/>\n",
    "* **Mailing list:** <https://mail.python.org/mailman/listinfo/scikit-imag>\n",
    "* **Benchmarks:** <https://pandas.pydata.org/speed/scikit-image/>  \n",
    "  \n",
    "### Installation from binaries\n",
    "* **Debian/Ubuntu:** sudo apt-get install python-skimage\n",
    "* **OSX:** pip install scikit-image\n",
    "* **Anaconda:** conda install -c conda-forge scikit-image\n",
    "* **Windows:** Download [Windows binaries](https://www.lfd.uci.edu/~gohlke/pythonlibs/#scikit-image)\n",
    "\n",
    "Also see [installing scikit-image](/home/fialhocoelho/Downloads/scikit-image/INSTALL.rst).\n",
    "\n",
    "### Installation from source  \n",
    "  \n",
    "Install dependencies using:  \n",
    "  \n",
    "`pip install -r requirements.txt`  \n",
    "    \n",
    "Then, install scikit-image using:  \n",
    "  \n",
    "`$ pip install .`  \n",
    "  \n",
    "If you plan to develop the package, you may run it directly from source:  \n",
    "  \n",
    "`$ pip install -e . # Do this once to add package to Python path`  \n",
    "  \n",
    "Every time you modify Cython files, also run:  \n",
    "  \n",
    "`$ python setup.py build_ext -i # Build binary extensions`  \n",
    "  \n",
    "### License (Modified BSD)\n",
    "Copyright (C) 2011, the scikit-image team All rights reserved.  \n",
    "  \n",
    "Redistribution and use in source and binary forms, with or without modification, are permitted provided that\n",
    "the following conditions are met:  \n",
    "\n",
    "1. Redistributions of source code must retain the above copyright notice, this list of conditions and the\n",
    "following disclaimer.\n",
    "1. Redistributions in binary form must reproduce the above copyright notice, this list of conditions and\n",
    "the following disclaimer in the documentation and/or other materials provided with the distribution.\n",
    "1. Neither the name of skimage nor the names of its contributors may be used to endorse or promote\n",
    "products derived from this software without specific prior written permission.  \n",
    "  \n",
    "THIS SOFTWARE IS PROVIDED BY THE AUTHOR ``AS IS'' AND ANY EXPRESS OR IMPLIED\n",
    "WARRANTIES, INCLUDING, BUT NOT LIMITED TO, THE IMPLIED WARRANTIES OF\n",
    "MERCHANTABILITY AND FITNESS FOR A PARTICULAR PURPOSE ARE DISCLAIMED. IN NO\n",
    "EVENT SHALL THE AUTHOR BE LIABLE FOR ANY DIRECT, INDIRECT, INCIDENTAL, SPECIAL,\n",
    "EXEMPLARY, OR CONSEQUENTIAL DAMAGES (INCLUDING, BUT NOT LIMITED TO,\n",
    "PROCUREMENT OF SUBSTITUTE GOODS OR SERVICES; LOSS OF USE, DATA, OR PROFITS; ORBUSINESS INTERRUPTION) HOWEVER CAUSED AND ON ANY THEORY OF LIABILITY,\n",
    "WHETHER IN CONTRACT, STRICT LIABILITY, OR TORT (INCLUDING NEGLIGENCE OR\n",
    "OTHERWISE) ARISING IN ANY WAY OUT OF THE USE OF THIS SOFTWARE, EVEN IF ADVISED\n",
    "OF THE POSSIBILITY OF SUCH DAMAGE.  \n",
    "  \n",
    "### Citation  \n",
    "  \n",
    "If you find this project useful, please cite:  \n",
    "\n",
    ">Stéfan van der Walt, Johannes L. Schönberger, Juan Nunez-Iglesias, François Boulogne, Joshua\n",
    "D. Warner, Neil Yager, Emmanuelle Gouillart, Tony Yu, and the scikit-image contributors.\n",
    "scikit-image: Image processing in Python. PeerJ 2:e453 (2014) https://doi.org/10.7717/peerj.453\n"
   ]
  },
  {
   "cell_type": "markdown",
   "metadata": {},
   "source": [
    "**Exercício 2:**  \n",
    "  \n",
    "O `markdown` não possibilita que redimensionemos a imagem usando a sintaxe `![image_alt](image_path)`. Pesquise uma maneira de inserir a seguinte imagem e redimensioná-la no jupyter notebook."
   ]
  },
  {
   "cell_type": "markdown",
   "metadata": {},
   "source": [
    "## **Resposta:**  \n",
    "\n",
    "É possível redimensionar a imagem usando HTML:  \n",
    "  \n",
    "`<img src=\"https://upload.wikimedia.org/wikipedia/commons/thumb/3/38/Jupyter_logo.svg/300px-Jupyter_logo.svg.png\" alt=\"Jupyter Logo\" width = \"50\"/>`  \n",
    "### Original:  \n",
    "<img src=\"https://upload.wikimedia.org/wikipedia/commons/thumb/3/38/Jupyter_logo.svg/300px-Jupyter_logo.svg.png\" alt=\"Jupyter Logo\"/>  \n",
    "  \n",
    "### Redimensionada:  \n",
    "<img src=\"https://upload.wikimedia.org/wikipedia/commons/thumb/3/38/Jupyter_logo.svg/300px-Jupyter_logo.svg.png\" alt=\"Jupyter Logo\" width = \"50\"/>\n"
   ]
  },
  {
   "cell_type": "markdown",
   "metadata": {},
   "source": [
    "**Exercício 3:**  \n",
    "  \n",
    "Como escrever (utilizando uma célula markdown) em texto simples os símbolos utilizados pela sintaxe `( *, #, _ **)`?  \n",
    "  \n",
    "Imagem exemplo:  \n",
    "\n",
    "![Exemplo](https://raw.githubusercontent.com/ai2-education-fiep-turma-5/02-programacao-python/main/exercicios/aula1/assets/lorem.png)"
   ]
  },
  {
   "cell_type": "markdown",
   "metadata": {},
   "source": [
    "## **Resposta:**  \n",
    "  \n",
    "Para escrever caracteres especiais basta adicionar / ao longo dos símbolos:  \n",
    "  \n",
    "`Lorem ipsum \\*\\*dolor sit amet, consectetur adipiscing elit. \\_Proin lacinia malesuada lobortis. \\#\\# Ut aliquam dictum arcu, vel eleifend dolor pellentesque molestie. \\~Nam eget augue purus. Ut ac risus libero.`  \n",
    "  \n",
    "O texto se torna:  \n",
    "  \n",
    "Lorem ipsum \\*\\*dolor sit amet, consectetur adipiscing elit. \\_Proin lacinia malesuada lobortis. \\#\\# Ut aliquam dictum arcu, vel eleifend dolor pellentesque molestie. \\~Nam eget augue purus. Ut ac risus libero."
   ]
  },
  {
   "cell_type": "markdown",
   "metadata": {},
   "source": [
    "**Exercício 4:**\n",
    "Instale o a ferramente matplotlib usando o conda utilizando uma célula do `jupyter notebook`. **Dica 1:** insira -y no final do comando de instalação para que ele não espere sua confirmação para instalação.  \n",
    "  \n",
    "**Dica 2:** Pode ser necessário reiniciar o kernel para que o pacote instalado seja identificado pelo `jupyter`. Para fazê-lo: aba superior **Kernel -> Restart**.\n"
   ]
  },
  {
   "cell_type": "code",
   "execution_count": null,
   "metadata": {},
   "outputs": [],
   "source": [
    "conda install matplotlib"
   ]
  },
  {
   "cell_type": "code",
   "execution_count": null,
   "metadata": {},
   "outputs": [],
   "source": [
    "import matplotlib\n",
    "import matplotlib.pyplot as plt\n",
    "import numpy as np\n",
    "\n",
    "# Data for plotting\n",
    "t = np.arange(0.0, 2.0, 0.01)\n",
    "s = 1 + np.sin(2 * np.pi * t)\n",
    "\n",
    "fig, ax = plt.subplots()\n",
    "ax.plot(t, s)\n",
    "\n",
    "ax.set(xlabel='time (s)', ylabel='voltage (mV)',\n",
    "       title='About as simple as it gets, folks')\n",
    "ax.grid()\n",
    "\n",
    "plt.show()"
   ]
  },
  {
   "cell_type": "markdown",
   "metadata": {},
   "source": [
    "**Exercício 5**  \n",
    "  \n",
    "Utilize o repositório [profiles](https://github.com/ai2-education-fiep-turma-5/resident-profiles), criar um novo diretório no formato `nome-sobrenome` (utilizar último sobrenome - não utilizar letras maiúsculas). Criar um novo README.md no seu diretório contendo o seu perfil (como uma espécie de mini CV) utilizando `Markdown`.\n",
    "\n",
    "## **Resposta:**\n",
    "\n",
    "[Meu perfil](https://github.com/ai2-education-fiep-turma-5/resident-profiles/tree/main/Erick_E)."
   ]
  },
  {
   "cell_type": "markdown",
   "metadata": {},
   "source": [
    "### Python warmup\n",
    "\n",
    "Para esse conjunto de exercícios vamos utilizar o dataset [MovieLens 100k](https://grouplens.org/datasets/movielens/100k/)\n",
    "\n",
    "\n",
    "Os conjuntos de dados do MovieLens foram coletados pelo GroupLens Research Project na Universidade de Minnesota.\n",
    " \n",
    "Este conjunto de dados consiste em:\n",
    "* 100.000 classificações (1-5) de 943 usuários em 1.682 filmes.\n",
    "* Cada usuário classificou pelo menos 20 filmes.\n",
    "* Informações demográficas simples para os usuários (idade, sexo, ocupação, CEP)\n",
    "\n",
    "Os dados foram coletados por meio do site MovieLens (movielens.umn.edu) durante o período de sete meses a partir de 19 de setembro, 1997 a 22 de abril de 1998. Estes dados foram limpos - usuários que tiveram menos de 20 avaliações ou não tiveram dados demográficos completos informações foram removidas deste conjunto de dados. Descrições detalhadas de o arquivo de dados pode ser encontrado no final deste arquivo.\n",
    "\n",
    "Utilizando esse Dataset responda as seguintes perguntas. Você deverá utilizar somente as bibliotecas padrões do python, i.e., nenhuma nova biblioteca deve ser adicionada para implementar suas soluções (**isso é um warmup de python!**)\n",
    "\n",
    "#### Encontrar:\n",
    "1. O(s) usuário(s) mais crítico(s) na avaliação de filmes.\n",
    "    * Encontrar aquele id cujas notas são, em média, as menores;\n",
    "1. O(s) filme(s) mais mal avaliado(s) pelos usuários.\n",
    "1. O(s) filme(s) mais bem avaliado(s) pelos usuários.\n",
    "1. Média de avaliação para cada gênero de filmes;\n",
    "1. Avaliação média de filmes por ano. \n",
    "    * Listar qual o ano com a melhor média de avaliação de filmes;\n",
    "1. Qual a ocupação mais propensa a dar más avaliações a filmes;\n",
    "    * Encontrar a média de avaliação para cada ocupação de usuário e mostrar os menores e maiores valores"
   ]
  },
  {
   "cell_type": "code",
   "execution_count": null,
   "metadata": {},
   "outputs": [],
   "source": [
    "import pandas as pd\n",
    "import numpy as np\n",
    "\n",
    "df = pd.read_csv('/var/www/ml-100k/u.data', sep='\\t', names=['Usuário','Filme','Avaliação', 'Data'])\n",
    "\n",
    "print('1. O(s) usuário(s) mais crítico(s) na avaliação de filmes.\\n')\n",
    "print('O usuàrios mais críticos são:')\n",
    "df.groupby(['Usuário']).mean().sort_values(['Avaliação']).head().drop(['Filme','Data'],axis=1)\n"
   ]
  },
  {
   "cell_type": "code",
   "execution_count": null,
   "metadata": {},
   "outputs": [],
   "source": [
    "print('2. O(s) filme(s) mais mal avaliado(s) pelos usuários.\\n')\n",
    "print('Os filmes mais mal avaliados são::')\n",
    "df.groupby(['Filme']).mean().sort_values(['Avaliação']).head().drop(['Usuário','Data'],axis=1)"
   ]
  },
  {
   "cell_type": "code",
   "execution_count": null,
   "metadata": {},
   "outputs": [],
   "source": [
    "print('3. O(s) filme(s) mais bem avaliado(s) pelos usuários.\\n')\n",
    "print('Os filmes mais bem avaliados são::')\n",
    "df.groupby(['Filme']).mean().sort_values(['Avaliação'],ascending=False).head().drop(['Usuário','Data'],axis=1)"
   ]
  },
  {
   "cell_type": "code",
   "execution_count": null,
   "metadata": {},
   "outputs": [],
   "source": [
    "print('4. Média de avaliação para cada gênero de filmes:.\\n')\n",
    "generos = pd.read_csv('/var/www/ml-100k/u.item', sep='|',encoding='latin-1', names=['Nome','Data','','IMDB','1','2','3','4','5','6','7','8','9','10','11','12','13','14','15','16','17','18','19'])\n",
    "filmes=df.set_index(['Filme']).astype('int').join(generos,how = 'left', lsuffix='left', rsuffix='right')\n",
    "filmes.index.name = 'Filme'\n",
    "media=[]\n",
    "for i in range(19):\n",
    "    media.append([i+1,filmes.groupby(str(i+1)).mean()['Avaliação'][1]])\n",
    "pd.DataFrame(media,columns=[\"Gênero\",\"Avaliação Média\"]).set_index(['Gênero'])\n"
   ]
  },
  {
   "cell_type": "code",
   "execution_count": null,
   "metadata": {},
   "outputs": [],
   "source": [
    "\n",
    "print('5. Avaliação média de filmes por ano.\\n')\n",
    "df2 = df\n",
    "df2[\"Ano\"]=pd.DatetimeIndex(pd.to_datetime(df['Data'],unit='s')).year\n",
    "df2=df2.drop(['Usuário','Filme','Data'],axis=1)\n",
    "df2.groupby(['Ano']).mean()\t"
   ]
  },
  {
   "cell_type": "code",
   "execution_count": null,
   "metadata": {},
   "outputs": [],
   "source": [
    "print('6. Qual a ocupação mais propensa a dar más avaliações a filmes.\\n')\n",
    "usuarios = pd.read_csv('/var/www/ml-100k/u.user', sep='|', names=['Idade','Sexo','Ocupação','CEP'])\n",
    "ocupacao=df.set_index(['Usuário']).astype('int').join(usuarios,how = 'left', lsuffix='left', rsuffix='right')\n",
    "print(ocupacao.groupby(['Ocupação']).mean().sort_values('Avaliação'))\n",
    "print('Ocupação mais crítica: {}'.format(ocupacao.groupby(['Ocupação']).mean().sort_values('Avaliação').index[0]))\n",
    "print('Ocupação menos crítica: {}'.format(ocupacao.groupby(['Ocupação']).mean().sort_values('Avaliação', ascending=False).index[1])) #Index = 1 pois existe uma profissao 'none'"
   ]
  }
 ],
 "metadata": {
  "kernelspec": {
   "display_name": "Python 3.9.12 ('base')",
   "language": "python",
   "name": "python3"
  },
  "language_info": {
   "codemirror_mode": {
    "name": "ipython",
    "version": 3
   },
   "file_extension": ".py",
   "mimetype": "text/x-python",
   "name": "python",
   "nbconvert_exporter": "python",
   "pygments_lexer": "ipython3",
   "version": "3.9.12"
  },
  "orig_nbformat": 4,
  "vscode": {
   "interpreter": {
    "hash": "95bc2cefe00dbd1e8461762dda09a55a180e040a88d609dae522c6119bea5c62"
   }
  }
 },
 "nbformat": 4,
 "nbformat_minor": 2
}
